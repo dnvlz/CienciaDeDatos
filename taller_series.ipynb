{
 "cells": [
  {
   "cell_type": "code",
   "execution_count": 1,
   "metadata": {},
   "outputs": [],
   "source": [
    "import pandas as pd"
   ]
  },
  {
   "cell_type": "code",
   "execution_count": 2,
   "metadata": {},
   "outputs": [],
   "source": [
    "diccionario = {\"Al Pacino\":\"Tarde de perros\", \"Leo Di Caprio\":\"La isla siniestra\", \"Robert De niro\":\"El irlandes\"}"
   ]
  },
  {
   "cell_type": "code",
   "execution_count": 3,
   "metadata": {},
   "outputs": [
    {
     "data": {
      "text/plain": [
       "'La isla siniestra'"
      ]
     },
     "execution_count": 3,
     "metadata": {},
     "output_type": "execute_result"
    }
   ],
   "source": [
    "diccionario[\"Al Pacino\"]\n",
    "diccionario[\"Leo Di Caprio\"]"
   ]
  },
  {
   "cell_type": "code",
   "execution_count": 4,
   "metadata": {},
   "outputs": [],
   "source": [
    "actores = [\"Al Pacino\", \"Leo Di Caprio\", \"Robert de Niro\"]"
   ]
  },
  {
   "cell_type": "code",
   "execution_count": 5,
   "metadata": {},
   "outputs": [
    {
     "data": {
      "text/plain": [
       "0         Al Pacino\n",
       "1     Leo Di Caprio\n",
       "2    Robert de Niro\n",
       "dtype: object"
      ]
     },
     "execution_count": 5,
     "metadata": {},
     "output_type": "execute_result"
    }
   ],
   "source": [
    "pd.Series(actores)"
   ]
  },
  {
   "cell_type": "code",
   "execution_count": 6,
   "metadata": {},
   "outputs": [
    {
     "data": {
      "text/plain": [
       "0    6\n",
       "1    7\n",
       "2    8\n",
       "3    9\n",
       "4    k\n",
       "dtype: object"
      ]
     },
     "execution_count": 6,
     "metadata": {},
     "output_type": "execute_result"
    }
   ],
   "source": [
    "lista = [6,7,8,9,\"k\"]\n",
    "pd.Series(lista)"
   ]
  },
  {
   "cell_type": "code",
   "execution_count": 7,
   "metadata": {},
   "outputs": [
    {
     "data": {
      "text/plain": [
       "6.0"
      ]
     },
     "execution_count": 7,
     "metadata": {},
     "output_type": "execute_result"
    }
   ],
   "source": [
    "lista = [6,7,None,9,8]\n",
    "import pandas as pd\n",
    "s_n = pd.Series(lista)\n",
    "s_n.index\n",
    "s_n.loc[0]\n",
    "s_n.iloc[0]"
   ]
  },
  {
   "cell_type": "code",
   "execution_count": 8,
   "metadata": {},
   "outputs": [
    {
     "data": {
      "text/plain": [
       "0       a\n",
       "1       b\n",
       "2       c\n",
       "3       d\n",
       "4    None\n",
       "dtype: object"
      ]
     },
     "execution_count": 8,
     "metadata": {},
     "output_type": "execute_result"
    }
   ],
   "source": [
    "lista = [\"a\",\"b\",\"c\",\"d\",None]\n",
    "pd.Series(lista)"
   ]
  },
  {
   "cell_type": "code",
   "execution_count": 9,
   "metadata": {},
   "outputs": [
    {
     "data": {
      "text/plain": [
       "True"
      ]
     },
     "execution_count": 9,
     "metadata": {},
     "output_type": "execute_result"
    }
   ],
   "source": [
    "# NaN Not a number\n",
    "1 == 1"
   ]
  },
  {
   "cell_type": "code",
   "execution_count": 10,
   "metadata": {},
   "outputs": [
    {
     "name": "stdout",
     "output_type": "stream",
     "text": [
      "False\n"
     ]
    },
    {
     "data": {
      "text/plain": [
       "True"
      ]
     },
     "execution_count": 10,
     "metadata": {},
     "output_type": "execute_result"
    }
   ],
   "source": [
    "import numpy as np\n",
    "# Forma incorrecta\n",
    "print(np.nan == np.nan)\n",
    "# Forma correcta\n",
    "np.isnan(np.nan)"
   ]
  },
  {
   "cell_type": "code",
   "execution_count": 11,
   "metadata": {},
   "outputs": [
    {
     "data": {
      "text/plain": [
       "'El irlandes'"
      ]
     },
     "execution_count": 11,
     "metadata": {},
     "output_type": "execute_result"
    }
   ],
   "source": [
    "diccionario = {\"Al Pacino\":\"Tarde de perros\", \"Leo Di Caprio\":\"La isla siniestra\", \"Robert De niro\":\"El irlandes\"}\n",
    "s = pd.Series(diccionario)\n",
    "s[\"Robert De niro\"]"
   ]
  },
  {
   "cell_type": "code",
   "execution_count": 12,
   "metadata": {},
   "outputs": [
    {
     "data": {
      "text/plain": [
       "Index(['Al Pacino', 'Leo Di Caprio', 'Robert De niro'], dtype='object')"
      ]
     },
     "execution_count": 12,
     "metadata": {},
     "output_type": "execute_result"
    }
   ],
   "source": [
    "s.index"
   ]
  },
  {
   "cell_type": "code",
   "execution_count": 13,
   "metadata": {},
   "outputs": [
    {
     "data": {
      "text/plain": [
       "'Tarde de perros'"
      ]
     },
     "execution_count": 13,
     "metadata": {},
     "output_type": "execute_result"
    }
   ],
   "source": [
    "# loc y iloc\n",
    "# Acceder a los elementos mediante su posición\n",
    "s.iloc[0]\n",
    "# Acceder a los elementos mediante su indice\n",
    "s.loc[\"Al Pacino\"]"
   ]
  },
  {
   "cell_type": "code",
   "execution_count": 14,
   "metadata": {},
   "outputs": [
    {
     "data": {
      "text/plain": [
       "0         (Al, Pacino)\n",
       "1     (Leo, Di Caprio)\n",
       "2    (Robert, de Niro)\n",
       "dtype: object"
      ]
     },
     "execution_count": 14,
     "metadata": {},
     "output_type": "execute_result"
    }
   ],
   "source": [
    "actores= [(\"Al\",\"Pacino\"),(\"Leo\",\"Di Caprio\"),(\"Robert\",\"de Niro\")]\n",
    "pd.Series(actores)"
   ]
  },
  {
   "cell_type": "code",
   "execution_count": 15,
   "metadata": {},
   "outputs": [],
   "source": [
    "#pd.Series([\"Al Pacino\",'Leo Di Caprio', 'Robert De niro','Pedro infante'],index=['Actor 1','Actor 2','Actor 3'])"
   ]
  },
  {
   "cell_type": "code",
   "execution_count": 16,
   "metadata": {},
   "outputs": [
    {
     "data": {
      "text/plain": [
       "Al Pacino              Tarde de perros\n",
       "Pedro Infante    Escuela de vagabundos\n",
       "Cris Evans             Capitan America\n",
       "dtype: object"
      ]
     },
     "execution_count": 16,
     "metadata": {},
     "output_type": "execute_result"
    }
   ],
   "source": [
    "diccionario = {\"Al Pacino\":\"Tarde de perros\", \"Leo Di Caprio\":\"La isla siniestra\", \"Robert De niro\":\"El irlandes\",\"Pedro Infante\":\"Escuela de vagabundos\",\"Cris Evans\":\"Capitan America\"}\n",
    "s = pd.Series(diccionario,index=['Al Pacino','Pedro Infante','Cris Evans'])\n",
    "s"
   ]
  },
  {
   "cell_type": "code",
   "execution_count": 17,
   "metadata": {},
   "outputs": [
    {
     "data": {
      "text/plain": [
       "Al Pacino                Tarde de perros\n",
       "Pedro Infante      Escuela de vagabundos\n",
       "Cris Evans               Capitan America\n",
       "Dolores del Rio                      NaN\n",
       "dtype: object"
      ]
     },
     "execution_count": 17,
     "metadata": {},
     "output_type": "execute_result"
    }
   ],
   "source": [
    "s = pd.Series(diccionario,index=['Al Pacino','Pedro Infante','Cris Evans','Dolores del Rio'])\n",
    "s"
   ]
  },
  {
   "cell_type": "code",
   "execution_count": 18,
   "metadata": {},
   "outputs": [
    {
     "data": {
      "text/plain": [
       "{'Al Pacino': 'Tarde de perros',\n",
       " 'Leo Di Caprio': 'La isla siniestra',\n",
       " 'Robert De niro': 'El irlandes',\n",
       " 'Pedro Infante': 'Escuela de vagabundos',\n",
       " 'Cris Evans': 'Capitan America'}"
      ]
     },
     "execution_count": 18,
     "metadata": {},
     "output_type": "execute_result"
    }
   ],
   "source": [
    "[1,2,3]\n",
    "diccionario"
   ]
  },
  {
   "cell_type": "code",
   "execution_count": 19,
   "metadata": {},
   "outputs": [
    {
     "name": "stdout",
     "output_type": "stream",
     "text": [
      "75.0\n"
     ]
    },
    {
     "data": {
      "text/plain": [
       "75.0"
      ]
     },
     "execution_count": 19,
     "metadata": {},
     "output_type": "execute_result"
    }
   ],
   "source": [
    "numeros = pd.Series([90,80,70,60])\n",
    "\n",
    "total = 0\n",
    "for numero in numeros:\n",
    "    total += numero\n",
    "print(total/len(numeros))\n",
    "\n",
    "numeros.mean()"
   ]
  },
  {
   "cell_type": "code",
   "execution_count": 20,
   "metadata": {},
   "outputs": [
    {
     "data": {
      "text/plain": [
       "9977    886\n",
       "9978    216\n",
       "9979    977\n",
       "9980    633\n",
       "9981    417\n",
       "9982    970\n",
       "9983     96\n",
       "9984    341\n",
       "9985    480\n",
       "9986    419\n",
       "9987     61\n",
       "9988    169\n",
       "9989    365\n",
       "9990    899\n",
       "9991    647\n",
       "9992    278\n",
       "9993    777\n",
       "9994    890\n",
       "9995    975\n",
       "9996    548\n",
       "9997    648\n",
       "9998    474\n",
       "9999    386\n",
       "dtype: int32"
      ]
     },
     "execution_count": 20,
     "metadata": {},
     "output_type": "execute_result"
    }
   ],
   "source": [
    "numeros = pd.Series(np.random.randint(0,1000,10000))\n",
    "numeros.head(10)\n",
    "numeros.tail(23)"
   ]
  },
  {
   "cell_type": "code",
   "execution_count": null,
   "metadata": {},
   "outputs": [],
   "source": []
  },
  {
   "cell_type": "code",
   "execution_count": null,
   "metadata": {},
   "outputs": [],
   "source": []
  }
 ],
 "metadata": {
  "interpreter": {
   "hash": "b227a5a74a4b15a27a68108b04370906cedb0fa979dfe90452a198bd1f9dc829"
  },
  "kernelspec": {
   "display_name": "Python 3.7.5 64-bit",
   "language": "python",
   "name": "python3"
  },
  "language_info": {
   "codemirror_mode": {
    "name": "ipython",
    "version": 3
   },
   "file_extension": ".py",
   "mimetype": "text/x-python",
   "name": "python",
   "nbconvert_exporter": "python",
   "pygments_lexer": "ipython3",
   "version": "3.7.5"
  },
  "metadata": {
   "interpreter": {
    "hash": "b227a5a74a4b15a27a68108b04370906cedb0fa979dfe90452a198bd1f9dc829"
   }
  },
  "orig_nbformat": 2
 },
 "nbformat": 4,
 "nbformat_minor": 2
}
